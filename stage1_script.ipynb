{
 "cells": [
  {
   "cell_type": "markdown",
   "metadata": {},
   "source": [
    "Stage 1: Image Processing "
   ]
  },
  {
   "cell_type": "markdown",
   "metadata": {},
   "source": [
    "The treatments are NoDrug, Drug5, Drug8 and Drug10_1000. "
   ]
  },
  {
   "cell_type": "markdown",
   "metadata": {},
   "source": [
    "Setup "
   ]
  },
  {
   "cell_type": "code",
   "execution_count": null,
   "metadata": {},
   "outputs": [],
   "source": [
    "# Loading libraries\n",
    "import random                        # Library to generate random numbers\n",
    "import skimage                       # Library for image manipulation\n",
    "import numpy as np                   # Library for array manipulation\n",
    "import urllib.request                # Library to download data\n",
    "import matplotlib.pyplot as plt      # Library used for plotting\n",
    "from skimage import io, measure               # Module from skimage\n",
    "from skimage.io import imread        # Module from skimage to read images as numpy arrays\n",
    "from skimage.filters import gaussian # Module working with a gaussian filter\n",
    "import pathlib                              # Library to work with file paths\n",
    "import os\n",
    "%matplotlib inline\n",
    "\n",
    "from ipywidgets import interactive, HBox, VBox, Layout\n",
    "import ipywidgets as widgets\n",
    "\n",
    "from skimage.morphology import binary_dilation\n",
    "from skimage.segmentation import watershed\n",
    "from skimage.draw import polygon\n",
    "from skimage.measure import regionprops\n",
    "from skimage.color import label2rgb\n",
    "from skimage.filters import threshold_otsu\n",
    "from skimage.morphology import binary_erosion\n",
    "from skimage.morphology import binary_closing\n",
    "from skimage.morphology import binary_opening\n",
    "from skimage.morphology import disk\n",
    "from skimage.morphology import remove_small_objects\n",
    "from scipy import ndimage as ndi              # Distance Transform\n",
    "from skimage.feature import peak_local_max    # Local maxima in a matrix\n",
    "from skimage.segmentation import watershed    # Watershed algorithm\n",
    "from skimage.filters import difference_of_gaussians"
   ]
  },
  {
   "cell_type": "code",
   "execution_count": null,
   "metadata": {},
   "outputs": [],
   "source": [
    "#first we write a for loop to iterate over the four treatmets\n",
    "#The treatments are NoDrug, Drug5, Drug8 and Drug10_1000. \n",
    "\n",
    "\n",
    "#the next for loop iterates over each replica for each treatment\n",
    "#note that each treatment has two replicas \n",
    "\n",
    "#the next for loop iterates over each tiff file (field of view) for each replica for each treatment \n",
    "#note that each replica has 6 tiff files\n",
    "\n",
    "#the next for loop iterates over time frames- don't need to do this for this case because the simulated data does not move in time\n",
    "\n",
    "#final inner for loop interates across each cell \n",
    "\n",
    "#inside we write a function which finds our desrired properties for each cell\n",
    "#this function will take a tiff file as input \n",
    "\n",
    "    \n",
    "#what we need in the function:\n",
    "#1. read the tiff file \n",
    "#2. Run cellpose to determine the number of cells in the tiff file\n",
    "#3. Segment the cells into the nuclei and cytoplasm\n",
    "#4. Calculate the area of the cell \n",
    "#5. Consider just the nucleus of the cell. \n",
    "#6. Set the desired threshold to count the number of mRNA particles in the cell (in cytoplasm and in the nucleus). \n",
    "#7. Count the number of proteins in the nucleus. \n",
    "#8. Repeat steps 5-7 for the cytoplasm.\n",
    "#9. Note: Need to do transcription site detection. - count and intensity \n",
    "\n",
    "#store these properties (above) for the cell in one dictionary\n",
    "\n",
    "#outside of the for loops, convert the list of dictionaries to a pandas dataframe (where the dictiionary keys correspond to the column names)\n",
    "\n",
    "#note: determine cell viability afterwards "
   ]
  }
 ],
 "metadata": {
  "language_info": {
   "name": "python"
  }
 },
 "nbformat": 4,
 "nbformat_minor": 2
}
