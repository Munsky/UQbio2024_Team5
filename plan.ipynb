{
 "cells": [
  {
   "cell_type": "code",
   "execution_count": null,
   "metadata": {},
   "outputs": [],
   "source": [
    "#load in tif files\n",
    "\n",
    "#separate the three channels (green, red, and blue)\n",
    "\n",
    "#create an array \n",
    "\n",
    "#columns of array are: (0) tif number (1,2,3,or 4), (1) cell ID number, \n",
    "#(2) viability of cell (binary), (3) cell size, \n",
    "#(4) nucleus size, (5) protein concentration (AU), (6) count of mRNA in nucleus, \n",
    "#(7) count of mRNA in cytoplasm, (8) number of transcription sites, (9) intensity\n",
    "#of transcription sites (vector), (10) time, (11) control or treatment, \n",
    "# (12) replicas\n",
    "\n"
   ]
  },
  {
   "cell_type": "markdown",
   "metadata": {},
   "source": [
    "Column 0:tif number (1,2,3,or 4)  \n"
   ]
  },
  {
   "cell_type": "code",
   "execution_count": null,
   "metadata": {},
   "outputs": [],
   "source": [
    "#assign tif number to column 0 in the df "
   ]
  },
  {
   "cell_type": "markdown",
   "metadata": {},
   "source": [
    "Column 1: cell ID number"
   ]
  },
  {
   "cell_type": "code",
   "execution_count": null,
   "metadata": {},
   "outputs": [],
   "source": [
    "#need to locate each cell at each time, give an ID number for each unique cell, start with 1 and go up by +1 "
   ]
  },
  {
   "cell_type": "markdown",
   "metadata": {},
   "source": [
    "Column 2: viability of cell (binary)\n"
   ]
  },
  {
   "cell_type": "code",
   "execution_count": null,
   "metadata": {},
   "outputs": [],
   "source": [
    "#use intensity (or maybe presense of nucleus) in order to determine if cell is viabile or not (0 not viable, 1 viable)\n",
    "#does cell have a nucleus, transcrption site? "
   ]
  },
  {
   "cell_type": "markdown",
   "metadata": {},
   "source": [
    "Column 3: cell size"
   ]
  },
  {
   "cell_type": "code",
   "execution_count": null,
   "metadata": {},
   "outputs": [],
   "source": [
    "#identify location of each cell, use techniques from lesson 2 "
   ]
  },
  {
   "cell_type": "markdown",
   "metadata": {},
   "source": [
    "Column 4: nucleus size\n"
   ]
  },
  {
   "cell_type": "code",
   "execution_count": null,
   "metadata": {},
   "outputs": [],
   "source": [
    "# identify nucleus location on blue channel and use techiques from lesson 2 "
   ]
  },
  {
   "cell_type": "markdown",
   "metadata": {},
   "source": [
    "Column 5: protein concentration (AU) (number of proteins per area)\n"
   ]
  },
  {
   "cell_type": "code",
   "execution_count": null,
   "metadata": {},
   "outputs": [],
   "source": [
    "#identiy which channel the protein is located in by looking at characteristics such as shape \n",
    "#then quantify the number of proteins in the frame\n",
    "#know area of frame using size of x and y \n",
    "#divide the number of proteins by the size of the frame to get concentration"
   ]
  },
  {
   "cell_type": "markdown",
   "metadata": {},
   "source": [
    "Column 6: count of mRNA in nucleus"
   ]
  },
  {
   "cell_type": "code",
   "execution_count": null,
   "metadata": {},
   "outputs": [],
   "source": [
    "#identify which channel mRNA is located in - look at nucleus\n",
    "#create a function which takes in a region of the cell (ie nucleus) which counts the number of mRNA "
   ]
  },
  {
   "cell_type": "markdown",
   "metadata": {},
   "source": [
    "Column 7: count of mRNA in cytoplasm"
   ]
  },
  {
   "cell_type": "code",
   "execution_count": null,
   "metadata": {},
   "outputs": [],
   "source": [
    "#identify which channel mRNA is located in - look at cytoplasm \n",
    "#create a function which takes in a region of the cell (ie cytoplasm) which counts the number of mRNA "
   ]
  },
  {
   "cell_type": "markdown",
   "metadata": {},
   "source": [
    "Column 8: number of transcription sites (in nucleus)"
   ]
  },
  {
   "cell_type": "code",
   "execution_count": null,
   "metadata": {},
   "outputs": [],
   "source": [
    "#write a function which takes in a region of the cell (nucleus in this case) to count the number of transcription sites\n",
    "#store this in the df "
   ]
  },
  {
   "cell_type": "markdown",
   "metadata": {},
   "source": [
    "Column 9: intensity of transcription sites (vector)"
   ]
  },
  {
   "cell_type": "code",
   "execution_count": null,
   "metadata": {},
   "outputs": [],
   "source": [
    "#determine threshold for intensity of transcription sites in order to say if there is a transcription site or not "
   ]
  },
  {
   "cell_type": "markdown",
   "metadata": {},
   "source": [
    "Column 10: time"
   ]
  },
  {
   "cell_type": "code",
   "execution_count": null,
   "metadata": {},
   "outputs": [],
   "source": [
    "#use the time frame from tif file and assign to column 10 of the df "
   ]
  },
  {
   "cell_type": "markdown",
   "metadata": {},
   "source": [
    "Column 11: control or treatment (0 is control, 1, 2, 3 for drug treatments )"
   ]
  },
  {
   "cell_type": "code",
   "execution_count": null,
   "metadata": {},
   "outputs": [],
   "source": [
    "#asign value (based on folder) "
   ]
  },
  {
   "cell_type": "markdown",
   "metadata": {},
   "source": [
    "Column 12: replica "
   ]
  },
  {
   "cell_type": "code",
   "execution_count": null,
   "metadata": {},
   "outputs": [],
   "source": [
    "#assign either 1 or 2 to the column (based on control treatment) "
   ]
  }
 ],
 "metadata": {
  "language_info": {
   "name": "python"
  }
 },
 "nbformat": 4,
 "nbformat_minor": 2
}
